{
 "cells": [
  {
   "cell_type": "code",
   "execution_count": null,
   "metadata": {},
   "outputs": [],
   "source": [
    "# Importing necessary libraries\n",
    "import geopandas as gpd\n",
    "import rasterio.mask\n",
    "import fiona\n",
    "import os\n",
    "import numpy as np\n",
    "import shapefile\n",
    "import rasterstats\n",
    "import matplotlib.pyplot as plt\n",
    "import statistics\n",
    "import pandas as pd\n",
    "import rasterio\n",
    "import time\n",
    "import cv2\n",
    "import math"
   ]
  },
  {
   "cell_type": "code",
   "execution_count": null,
   "metadata": {},
   "outputs": [],
   "source": [
    "from typing import cast, Optional\n",
    "\n",
    "# Importing necessary programs from the libraries\n",
    "from rasterio.plot import show\n",
    "from rasterio.transform import from_origin\n",
    "from rasterio.crs import CRS\n",
    "from rasterio import features\n",
    "from rasterstats import zonal_stats\n",
    "from matplotlib.colors import ListedColormap\n",
    "from matplotlib import pyplot as plt"
   ]
  },
  {
   "cell_type": "code",
   "execution_count": null,
   "metadata": {},
   "outputs": [],
   "source": [
    "import PIL.Image\n",
    "\n",
    "def img_scale(img: np.ndarray) -> np.ndarray:\n",
    "    return (img * 255).astype(np.uint8)\n",
    "\n",
    "def display_image(img: np.ndarray, _: Optional[str] = None):\n",
    "    display(PIL.Image.fromarray(img))\n",
    "\n",
    "def display_contours(img: np.ndarray, contours):\n",
    "    img_with_contours = img.copy()\n",
    "    for contour in contours:\n",
    "        cv2.drawContours(img_with_contours, [contour], 0, (0, 255, 0), 2)\n",
    "    display_image(img_with_contours)"
   ]
  },
  {
   "cell_type": "code",
   "execution_count": null,
   "metadata": {},
   "outputs": [],
   "source": [
    "img = cv2.imread('Test_Images/temp_ndvi.jpg')\n",
    "img_grey = cv2.cvtColor(img, cv2.COLOR_BGR2GRAY)\n",
    "col_grey_img = cv2.cvtColor(img_grey, cv2.COLOR_GRAY2RGB) # for printing on top of\n",
    "display_image(img_grey)"
   ]
  },
  {
   "cell_type": "code",
   "execution_count": null,
   "metadata": {},
   "outputs": [],
   "source": [
    "initial_contours, _ = cv2.findContours(img_grey, cv2.RETR_TREE, cv2.CHAIN_APPROX_NONE)\n",
    "\n",
    "initial_contour_mask = np.zeros(img_grey.shape, np.uint8)\n",
    "\n",
    "for contour in initial_contours:\n",
    "    if cv2.contourArea(contour) < 600: continue\n",
    "\n",
    "    cv2.drawContours(initial_contour_mask, [contour], 0, (255,), -1)\n",
    "\n",
    "display_image(initial_contour_mask)"
   ]
  },
  {
   "cell_type": "code",
   "execution_count": null,
   "metadata": {},
   "outputs": [],
   "source": [
    "img_large_contours = cv2.bitwise_or(img_grey, img_grey, mask=initial_contour_mask)\n",
    "\n",
    "display_image(img_large_contours)"
   ]
  },
  {
   "cell_type": "code",
   "execution_count": null,
   "metadata": {},
   "outputs": [],
   "source": [
    "img_contour_eroded = cv2.erode(\n",
    "    np.where(cast(np.ndarray, img_large_contours) > 0, [255], [0]).astype(np.uint8),\n",
    "    img_large_contours,\n",
    "    np.ones((3, 3), np.uint8),\n",
    "    iterations = 1\n",
    ")\n",
    "\n",
    "display_image(img_contour_eroded)"
   ]
  },
  {
   "cell_type": "code",
   "execution_count": null,
   "metadata": {},
   "outputs": [],
   "source": [
    "img_eroded_dilated = cv2.dilate(\n",
    "    img_contour_eroded,\n",
    "    np.ones((5,5), np.uint8),\n",
    "    iterations = 1\n",
    ")\n",
    "\n",
    "display_image(img_eroded_dilated)"
   ]
  },
  {
   "cell_type": "code",
   "execution_count": null,
   "metadata": {},
   "outputs": [],
   "source": [
    "segment_detector = cv2.createLineSegmentDetector()\n",
    "lines, *_ = segment_detector.detect(img_eroded_dilated)\n",
    "\n",
    "lines = lines[np.squeeze((0 < cast(np.ndarray, lines)).all(axis=2))]\n",
    "\n",
    "segment_image = np.copy(col_grey_img)\n",
    "for line in lines:\n",
    "    x1, y1, x2, y2 = np.rint(line.flatten()).astype(np.int32)\n",
    "    cv2.line(segment_image, (x1, y1), (x2, y2), (255, 0, 0), 2)\n",
    "\n",
    "print(len(lines))\n",
    "display_image(segment_image)"
   ]
  },
  {
   "cell_type": "code",
   "execution_count": null,
   "metadata": {},
   "outputs": [],
   "source": [
    "img_contour_edges = cv2.Canny(img_eroded_dilated, 30, 200)\n",
    "\n",
    "display_image(img_contour_edges)"
   ]
  },
  {
   "cell_type": "code",
   "execution_count": null,
   "metadata": {},
   "outputs": [],
   "source": [
    "rho = 2  # distance resolution in pixels of the Hough grid\n",
    "theta = np.pi / 180  # angular resolution in radians of the Hough grid\n",
    "threshold = 15  # minimum number of votes (intersections in Hough grid cell)\n",
    "min_line_length = 100  # minimum number of pixels making up a line\n",
    "max_line_gap = 40  # maximum gap in pixels between connectable line segments\n",
    "line_image = np.copy(col_grey_img)\n",
    "\n",
    "# Run Hough on edge detected image\n",
    "# Output \"lines\" is an array containing endpoints of detected line segments\n",
    "lines = cv2.HoughLinesP(img_contour_edges, rho, theta, threshold, np.array([]), min_line_length, max_line_gap)\n",
    "\n",
    "for line in lines:\n",
    "    for x1, y1, x2, y2 in line:\n",
    "        cv2.line(line_image, (x1, y1), (x2, y2), (255, 0, 0), 2)\n",
    "\n",
    "print(len(lines))\n",
    "print(sum(len(line) for line in lines))\n",
    "display_image(line_image)"
   ]
  }
 ],
 "metadata": {
  "kernelspec": {
   "display_name": "Python 3",
   "language": "python",
   "name": "python3"
  },
  "language_info": {
   "codemirror_mode": {
    "name": "ipython",
    "version": 3
   },
   "file_extension": ".py",
   "mimetype": "text/x-python",
   "name": "python",
   "nbconvert_exporter": "python",
   "pygments_lexer": "ipython3",
   "version": "3.11.8"
  }
 },
 "nbformat": 4,
 "nbformat_minor": 2
}
