{
 "cells": [
  {
   "cell_type": "code",
   "execution_count": null,
   "metadata": {},
   "outputs": [],
   "source": [
    "# Importing necessary libraries\n",
    "import numpy as np\n",
    "import cv2\n",
    "import math"
   ]
  },
  {
   "cell_type": "code",
   "execution_count": null,
   "metadata": {},
   "outputs": [],
   "source": [
    "from typing import cast, Optional"
   ]
  },
  {
   "cell_type": "code",
   "execution_count": null,
   "metadata": {},
   "outputs": [],
   "source": [
    "import PIL.Image\n",
    "\n",
    "def img_scale(img: np.ndarray) -> np.ndarray:\n",
    "    return (img * 255).astype(np.uint8)\n",
    "\n",
    "def display_image(img: np.ndarray, _: Optional[str] = None):\n",
    "    display(PIL.Image.fromarray(img))\n",
    "\n",
    "def display_contours(img: np.ndarray, contours):\n",
    "    img_with_contours = img.copy()\n",
    "    for contour in contours:\n",
    "        cv2.drawContours(img_with_contours, [contour], 0, (0, 255, 0), 2)\n",
    "    display_image(img_with_contours)"
   ]
  },
  {
   "cell_type": "code",
   "execution_count": null,
   "metadata": {},
   "outputs": [],
   "source": [
    "img = cv2.imread('Test_Images/temp_ndvi.jpg')\n",
    "img_grey = cv2.cvtColor(img, cv2.COLOR_BGR2GRAY)\n",
    "col_grey_img = cv2.cvtColor(img_grey, cv2.COLOR_GRAY2RGB) # for printing on top of\n",
    "display_image(img_grey)"
   ]
  },
  {
   "cell_type": "code",
   "execution_count": null,
   "metadata": {},
   "outputs": [],
   "source": [
    "img_contour_eroded = cv2.erode(\n",
    "    np.where(cast(np.ndarray, img_grey) > 0, [255], [0]).astype(np.uint8),\n",
    "    np.ones((5, 5), np.uint8),\n",
    "    iterations = 3\n",
    ")\n",
    "\n",
    "img_eroded_dilated = cv2.dilate(\n",
    "    img_contour_eroded,\n",
    "    np.ones((99, 99), np.uint8),\n",
    "    iterations = 2\n",
    ")\n",
    "\n",
    "display_image(img_eroded_dilated)"
   ]
  },
  {
   "cell_type": "code",
   "execution_count": null,
   "metadata": {},
   "outputs": [],
   "source": [
    "initial_contour_mask = img_eroded_dilated\n",
    "\n",
    "prev_contour_count = math.inf\n",
    "\n",
    "for _ in range(10): # maximum of 10 recursions\n",
    "    initial_contours, _ = cv2.findContours(initial_contour_mask, cv2.RETR_EXTERNAL, cv2.CHAIN_APPROX_SIMPLE)\n",
    "\n",
    "    initial_contour_mask = np.zeros(img_eroded_dilated.shape, dtype=np.uint8)\n",
    "\n",
    "    for contour in initial_contours:\n",
    "        cv2.drawContours(initial_contour_mask, [cv2.convexHull(contour)], 0, (255,), -1)\n",
    "\n",
    "    display_image(initial_contour_mask)\n",
    "\n",
    "    if prev_contour_count == len(initial_contours): break\n",
    "    prev_contour_count = len(initial_contours)\n",
    "else:\n",
    "    raise RecursionError()"
   ]
  },
  {
   "cell_type": "code",
   "execution_count": null,
   "metadata": {},
   "outputs": [],
   "source": [
    "chunk_contours, _ = cv2.findContours(initial_contour_mask, cv2.RETR_EXTERNAL, cv2.CHAIN_APPROX_SIMPLE)\n",
    "\n",
    "chunk_masks = []\n",
    "\n",
    "for contour in chunk_contours:\n",
    "    contour_mask = np.zeros(initial_contour_mask.shape, dtype=np.uint8)\n",
    "    cv2.drawContours(contour_mask, [contour], 0, (255,), -1)\n",
    "    chunk_masks.append(contour_mask)\n",
    "\n",
    "print(len(chunk_masks))\n",
    "display_contours(col_grey_img, chunk_contours)"
   ]
  },
  {
   "cell_type": "code",
   "execution_count": null,
   "metadata": {},
   "outputs": [],
   "source": [
    "chunks = []\n",
    "\n",
    "for mask, contour in zip(chunk_masks, chunk_contours):\n",
    "    masked_img = cv2.bitwise_or(col_grey_img, col_grey_img, mask=mask)\n",
    "    x, y, w, h = cv2.boundingRect(contour)\n",
    "    chunk = masked_img[y:y+h, x:x+w]\n",
    "    chunks.append(chunk)\n",
    "\n",
    "for chunk in chunks:\n",
    "    display_image(chunk)"
   ]
  }
 ],
 "metadata": {
  "kernelspec": {
   "display_name": "Python 3",
   "language": "python",
   "name": "python3"
  },
  "language_info": {
   "codemirror_mode": {
    "name": "ipython",
    "version": 3
   },
   "file_extension": ".py",
   "mimetype": "text/x-python",
   "name": "python",
   "nbconvert_exporter": "python",
   "pygments_lexer": "ipython3",
   "version": "3.11.8"
  }
 },
 "nbformat": 4,
 "nbformat_minor": 2
}
