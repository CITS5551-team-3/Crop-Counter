{
 "cells": [
  {
   "cell_type": "code",
   "execution_count": null,
   "metadata": {},
   "outputs": [],
   "source": [
    "import math\n",
    "from typing import cast, Optional\n",
    "\n",
    "import cv2\n",
    "import numpy as np\n",
    "import rasterio"
   ]
  },
  {
   "cell_type": "code",
   "execution_count": null,
   "metadata": {},
   "outputs": [],
   "source": [
    "FILENAME = \"Test_Images/Test_Image_3.JPG\"\n",
    "IMAGE_BITS = 8\n",
    "\n",
    "red_channel = 1\n",
    "green_channel = 2\n",
    "blue_channel = 3\n",
    "nir_channel = math.inf\n",
    "re_channel = math.inf"
   ]
  },
  {
   "cell_type": "markdown",
   "metadata": {},
   "source": [
    "## Setup"
   ]
  },
  {
   "cell_type": "code",
   "execution_count": null,
   "metadata": {},
   "outputs": [],
   "source": [
    "import PIL.Image\n",
    "\n",
    "def img_scale(img: np.ndarray) -> np.ndarray:\n",
    "    return (img * 255).astype(np.uint8)\n",
    "\n",
    "def display_image(img: np.ndarray, _: Optional[str] = None):\n",
    "    display(PIL.Image.fromarray(img))\n",
    "\n",
    "def display_contours(img: np.ndarray, contours, *, colour_rgb: tuple[int, int, int] = (0, 255, 0)):\n",
    "    img_with_contours = img.copy()\n",
    "    for contour in contours:\n",
    "        cv2.drawContours(img_with_contours, [contour], 0, colour_rgb, 2)\n",
    "    display_image(img_with_contours)"
   ]
  },
  {
   "cell_type": "markdown",
   "metadata": {},
   "source": [
    "## Load image"
   ]
  },
  {
   "cell_type": "code",
   "execution_count": null,
   "metadata": {},
   "outputs": [],
   "source": [
    "blue_raw: Optional[np.ndarray] = None\n",
    "green_raw: Optional[np.ndarray] = None\n",
    "red_raw: Optional[np.ndarray] = None\n",
    "nir_raw: Optional[np.ndarray] = None\n",
    "re_raw: Optional[np.ndarray] = None\n",
    "\n",
    "# TODO should probably use cv2 to load the image\n",
    "with rasterio.open(FILENAME, 'r') as raster_img:\n",
    "    raster_img = cast(rasterio.DatasetReader, raster_img)\n",
    "    band_count = cast(int, raster_img.count)\n",
    "\n",
    "    if (band_count >= red_channel):\n",
    "        red_raw = raster_img.read(red_channel)\n",
    "        print(\"red present\")\n",
    "\n",
    "    if (band_count >= green_channel):\n",
    "        green_raw = raster_img.read(green_channel)\n",
    "        print(\"green present\")\n",
    "\n",
    "    if (band_count >= blue_channel):\n",
    "        blue_raw = raster_img.read(blue_channel)\n",
    "        print(\"blue present\")\n",
    "\n",
    "    if (band_count >= nir_channel):\n",
    "        nir_raw = raster_img.read(nir_channel)\n",
    "        print(\"nir present\")\n",
    "\n",
    "    if (band_count >= re_channel):\n",
    "        re_raw = raster_img.read(re_channel)\n",
    "        print(\"re present\")"
   ]
  },
  {
   "cell_type": "code",
   "execution_count": null,
   "metadata": {},
   "outputs": [],
   "source": [
    "# convert from ints to 0-1 floats\n",
    "\n",
    "red: Optional[np.ndarray]\n",
    "green: Optional[np.ndarray]\n",
    "blue: Optional[np.ndarray]\n",
    "nir: Optional[np.ndarray]\n",
    "re: Optional[np.ndarray]\n",
    "\n",
    "image_max_value = 2 ** IMAGE_BITS - 1\n",
    "\n",
    "if red_raw is not None:\n",
    "    red = red_raw.astype(float) / image_max_value\n",
    "\n",
    "if green_raw is not None:\n",
    "    green = green_raw.astype(float) / image_max_value\n",
    "\n",
    "if blue_raw is not None:\n",
    "    blue = blue_raw.astype(float) / image_max_value\n",
    "\n",
    "if nir_raw is not None:\n",
    "    nir = nir_raw.astype(float) / image_max_value\n",
    "\n",
    "if re_raw is not None:\n",
    "    re = re_raw.astype(float) / image_max_value"
   ]
  },
  {
   "cell_type": "code",
   "execution_count": null,
   "metadata": {},
   "outputs": [],
   "source": [
    "if red is None or green is None or blue is None:\n",
    "    raise ValueError(\"not all rgb channels available\")\n",
    "\n",
    "# resolve type errors\n",
    "red = red\n",
    "green = green\n",
    "blue = blue\n",
    "\n",
    "np.seterr(divide='ignore', invalid='ignore')"
   ]
  },
  {
   "cell_type": "code",
   "execution_count": null,
   "metadata": {},
   "outputs": [],
   "source": [
    "img = img_scale(cv2.merge([blue, green, red]))\n",
    "img_rgb = cv2.cvtColor(img, cv2.COLOR_BGR2RGB)\n",
    "display_image(img_rgb)"
   ]
  },
  {
   "cell_type": "markdown",
   "metadata": {},
   "source": [
    "## Generate mask"
   ]
  },
  {
   "cell_type": "code",
   "execution_count": null,
   "metadata": {},
   "outputs": [],
   "source": [
    "NGRDI = (green - red) / (green + red)\n",
    "display_image(img_scale(NGRDI))"
   ]
  },
  {
   "cell_type": "code",
   "execution_count": null,
   "metadata": {},
   "outputs": [],
   "source": [
    "HUE = np.arctan((2 * (red - green - blue)) / (30.5 * (green - blue)))\n",
    "display_image(img_scale(HUE))"
   ]
  },
  {
   "cell_type": "code",
   "execution_count": null,
   "metadata": {},
   "outputs": [],
   "source": [
    "NGRDI_mask = cv2.threshold(NGRDI, 0, 255, cv2.THRESH_BINARY)[1].astype(np.uint8)\n",
    "display_image(NGRDI_mask)"
   ]
  },
  {
   "cell_type": "markdown",
   "metadata": {},
   "source": [
    "## Process mask"
   ]
  },
  {
   "cell_type": "code",
   "execution_count": null,
   "metadata": {},
   "outputs": [],
   "source": [
    "img_masked = cv2.bitwise_or(img, img, mask=NGRDI_mask)\n",
    "display_image(cv2.cvtColor(img_masked, cv2.COLOR_BGR2RGB))"
   ]
  },
  {
   "cell_type": "code",
   "execution_count": null,
   "metadata": {},
   "outputs": [],
   "source": [
    "img_masked_grey = cv2.cvtColor(img_masked, cv2.COLOR_BGR2GRAY)\n",
    "display_image(img_masked_grey)"
   ]
  },
  {
   "cell_type": "code",
   "execution_count": null,
   "metadata": {},
   "outputs": [],
   "source": [
    "_, img_masked_thresholded = cv2.threshold(img_masked_grey, 10, 255, cv2.THRESH_BINARY)\n",
    "display_image(img_masked_thresholded)"
   ]
  },
  {
   "cell_type": "code",
   "execution_count": null,
   "metadata": {},
   "outputs": [],
   "source": [
    "img_masked_eroded = cv2.erode(img_masked_thresholded, np.ones((4, 4), np.uint8), iterations = 2)\n",
    "display_image(img_masked_eroded)"
   ]
  },
  {
   "cell_type": "code",
   "execution_count": null,
   "metadata": {},
   "outputs": [],
   "source": [
    "img_masked_dilated = cv2.dilate(img_masked_eroded, np.ones((3, 3), np.uint8), iterations = 8)\n",
    "display_image(img_masked_dilated)"
   ]
  },
  {
   "cell_type": "markdown",
   "metadata": {},
   "source": [
    "## Count plants"
   ]
  },
  {
   "cell_type": "code",
   "execution_count": null,
   "metadata": {},
   "outputs": [],
   "source": [
    "img_masked_grey_col = cv2.cvtColor(img_masked_grey, cv2.COLOR_GRAY2RGB)"
   ]
  },
  {
   "cell_type": "code",
   "execution_count": null,
   "metadata": {},
   "outputs": [],
   "source": [
    "contours_initial, _ = cv2.findContours(img_masked_dilated, cv2.RETR_TREE, cv2.CHAIN_APPROX_NONE)\n",
    "print(len(contours_initial))\n",
    "display_contours(img_masked_grey_col, contours_initial)"
   ]
  },
  {
   "cell_type": "code",
   "execution_count": null,
   "metadata": {},
   "outputs": [],
   "source": [
    "contours_filtered = []\n",
    "\n",
    "for contour in contours_initial:\n",
    "    # area = cv2.contourArea(contour)\n",
    "    # if area < 600: continue\n",
    "    \n",
    "    perimeter = cv2.arcLength(contour, True)\n",
    "    if perimeter < 40: continue\n",
    "\n",
    "    contours_filtered.append(contour)\n",
    "\n",
    "print(len(contours_filtered))\n",
    "display_contours(img_masked_grey_col, contours_filtered)\n",
    "display_contours(img_rgb, contours_filtered, colour_rgb=(0, 0, 255))"
   ]
  }
 ],
 "metadata": {
  "kernelspec": {
   "display_name": "Python 3",
   "language": "python",
   "name": "python3"
  },
  "language_info": {
   "codemirror_mode": {
    "name": "ipython",
    "version": 3
   },
   "file_extension": ".py",
   "mimetype": "text/x-python",
   "name": "python",
   "nbconvert_exporter": "python",
   "pygments_lexer": "ipython3",
   "version": "3.10.12"
  }
 },
 "nbformat": 4,
 "nbformat_minor": 2
}
